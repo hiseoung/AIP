{
  "cells": [
    {
      "cell_type": "code",
      "source": [
        "! pip install mlflow # mlflow\n",
        "! pip install bentoml # bentoml \n",
        "! pip install pyngrok # 로컬 개발환경을 원격으로 공유해주는 라이브러리"
      ],
      "metadata": {
        "id": "jVwO0SJB5Qa8"
      },
      "id": "jVwO0SJB5Qa8",
      "execution_count": null,
      "outputs": []
    },
    {
      "cell_type": "code",
      "source": [
        "import torch.nn as nn\n",
        "import torch\n",
        "from torchvision import datasets\n",
        "from torchvision import transforms\n",
        "from torch.utils.data import DataLoader\n",
        "import numpy as np\n",
        "import torch.optim as optim\n",
        "import mlflow # mlflow 사용을 위해"
      ],
      "metadata": {
        "id": "4Sq1DEB4FPAr"
      },
      "id": "4Sq1DEB4FPAr",
      "execution_count": 19,
      "outputs": []
    },
    {
      "cell_type": "markdown",
      "source": [
        "# Model 정의"
      ],
      "metadata": {
        "id": "ZdvTVwMp5q1Q"
      },
      "id": "ZdvTVwMp5q1Q"
    },
    {
      "cell_type": "code",
      "source": [
        "class Net(nn.Module):\n",
        "    def __init__(self):\n",
        "        super(Net, self).__init__()\n",
        "        self.fc1 = nn.Linear(784,100)\n",
        "        self.relu = nn.ReLU()\n",
        "        self.fc2 = nn.Linear(100,100)\n",
        "        self.fc3 = nn.Linear(100,10)\n",
        "    def forward(self, x):\n",
        "        x1 = self.fc1(x)\n",
        "        x2 = self.relu(x1)\n",
        "        x3 = self.fc2(x2)\n",
        "        x4 = self.relu(x3)\n",
        "        x5 = self.fc3(x4)\n",
        "\n",
        "        return x5\n"
      ],
      "metadata": {
        "id": "WPpeEoBwFnpN"
      },
      "id": "WPpeEoBwFnpN",
      "execution_count": 20,
      "outputs": []
    },
    {
      "cell_type": "markdown",
      "source": [
        "# Dataset 정의  \n",
        "## MNIST Dataset을 사용하여 학습,검증을 합니다."
      ],
      "metadata": {
        "id": "ydYhvjVG5t80"
      },
      "id": "ydYhvjVG5t80"
    },
    {
      "cell_type": "code",
      "source": [
        "download_root = 'MNIST_data/'\n",
        "\n",
        "train_dataset = datasets.MNIST(root=download_root,\n",
        "                         train=True,\n",
        "                         transform = transforms.ToTensor(),\n",
        "                         download=True)\n",
        "                         \n",
        "test_dataset = datasets.MNIST(root=download_root,\n",
        "                         train=False,\n",
        "                         transform=transforms.ToTensor(),\n",
        "                         download=True)    "
      ],
      "metadata": {
        "id": "r-4vdqGlFtUw"
      },
      "id": "r-4vdqGlFtUw",
      "execution_count": 21,
      "outputs": []
    },
    {
      "cell_type": "markdown",
      "source": [
        "# Batch_size, Train, Test Dataloader 정의"
      ],
      "metadata": {
        "id": "zCE_LD7K55qb"
      },
      "id": "zCE_LD7K55qb"
    },
    {
      "cell_type": "code",
      "source": [
        "batch_size = 100\n",
        "train_loader = DataLoader(train_dataset, batch_size=batch_size, shuffle=True)\n",
        "test_loader = DataLoader(test_dataset, batch_size=batch_size, shuffle=True)\n"
      ],
      "metadata": {
        "id": "qq0ms_PLF4xa"
      },
      "id": "qq0ms_PLF4xa",
      "execution_count": 22,
      "outputs": []
    },
    {
      "cell_type": "markdown",
      "source": [
        "# 학습률, Optimizer 정의"
      ],
      "metadata": {
        "id": "FCOwPTl56AOr"
      },
      "id": "FCOwPTl56AOr"
    },
    {
      "cell_type": "code",
      "source": [
        "model = Net()\n",
        "model.zero_grad()\n",
        "loss_function = nn.CrossEntropyLoss()\n",
        "learning_rate = 0.01\n",
        "optimizer = optim.SGD(model.parameters(), lr=learning_rate)\n"
      ],
      "metadata": {
        "id": "cmPZjvJeGIrj"
      },
      "id": "cmPZjvJeGIrj",
      "execution_count": 23,
      "outputs": []
    },
    {
      "cell_type": "markdown",
      "source": [
        "# Epoch 정의 (10번)\n"
      ],
      "metadata": {
        "id": "TpGNzW1z6HPM"
      },
      "id": "TpGNzW1z6HPM"
    },
    {
      "cell_type": "code",
      "source": [
        "total_batch = len(train_loader)\n",
        "epochs = 10\n",
        "print(len(train_loader))"
      ],
      "metadata": {
        "id": "1Fly5hkaGLg5",
        "outputId": "b29bf0bb-3a02-41a0-f7fa-fbd72c7add7d",
        "colab": {
          "base_uri": "https://localhost:8080/"
        }
      },
      "id": "1Fly5hkaGLg5",
      "execution_count": 24,
      "outputs": [
        {
          "output_type": "stream",
          "name": "stdout",
          "text": [
            "600\n"
          ]
        }
      ]
    },
    {
      "cell_type": "markdown",
      "source": [
        "# MLflow, Ngrok 환경설정"
      ],
      "metadata": {
        "id": "ig3NnZGm6Nl8"
      },
      "id": "ig3NnZGm6Nl8"
    },
    {
      "cell_type": "code",
      "source": [
        "experiment_name = 'mnist_practice' # 실험명, 실험관리를 용이하게 해줍니다. \n",
        "\n",
        "\n",
        "if not mlflow.get_experiment_by_name(experiment_name): \n",
        "  mlflow.create_experiment(name=experiment_name)\n",
        "experiment = mlflow.get_experiment_by_name(experiment_name)\n",
        "\n",
        "get_ipython().system_raw(\"mlflow ui --port 5000 &\") # mlflow 포트 지정 및 백그라운드 실행을 위한 shell 코드.\n",
        "\n",
        "from pyngrok import ngrok\n",
        "\n",
        "ngrok.kill() # 혹시 열려있는 프로세스가 있으면 kill해줍니다.\n",
        "\n",
        "NGROK_AUTH_TOKEN = \"\" # 개인 토큰입니다.https://dashboard.ngrok.com/get-started/your-authtoken 를 통해서 받아올 수 있습니다. \n",
        "ngrok.set_auth_token(NGROK_AUTH_TOKEN)\n",
        "\n",
        "ngrok_tunnel = ngrok.connect(addr=\"5000\",proto=\"http\",bind_tls=True) # tunnel을 설정해주는 코드입니다. mlflow의경우에는 5000번 포트를 사용합니다.\n",
        "print(\"MLflow Tracking UI:\", ngrok_tunnel.public_url) # 이 코드가 실행되고 나오는 url을 통해 MLflow에 접속할 수 있습니다."
      ],
      "metadata": {
        "id": "zRNV0xUOJiqt",
        "outputId": "0d3c38b8-8cfc-41a3-836e-b6851b9a27b4",
        "colab": {
          "base_uri": "https://localhost:8080/"
        }
      },
      "id": "zRNV0xUOJiqt",
      "execution_count": 25,
      "outputs": [
        {
          "output_type": "stream",
          "name": "stdout",
          "text": [
            "MLflow Tracking UI: https://c2ff-34-148-188-45.ngrok.io\n"
          ]
        }
      ]
    },
    {
      "cell_type": "markdown",
      "source": [
        "# Seed 고정"
      ],
      "metadata": {
        "id": "zSEzj4TH7Gke"
      },
      "id": "zSEzj4TH7Gke"
    },
    {
      "cell_type": "code",
      "source": [
        "import torch.backends.cudnn as cudnn\n",
        "import random\n",
        "seed = 0\n",
        "torch.manual_seed(seed)\n",
        "torch.cuda.manual_seed(seed)\n",
        "torch.cuda.manual_seed_all(seed)\n",
        "np.random.seed(seed)\n",
        "cudnn.benchmark = False\n",
        "cudnn.deterministic = True\n",
        "random.seed(seed)"
      ],
      "metadata": {
        "id": "-0ET0o5hxiWW"
      },
      "id": "-0ET0o5hxiWW",
      "execution_count": 26,
      "outputs": []
    },
    {
      "cell_type": "markdown",
      "source": [
        "# Train, Track\n",
        "## 학습을 진행하고 MLflow로 학습을 기록하는 부분입니다."
      ],
      "metadata": {
        "id": "L3O4qpKx7KSp"
      },
      "id": "L3O4qpKx7KSp"
    },
    {
      "cell_type": "code",
      "source": [
        "train_loss_list = []\n",
        "train_acc_list = []\n",
        "\n",
        "val_loss_list = []\n",
        "val_acc_list = []\n",
        "\n",
        "best_accuracy = 0\n",
        "with mlflow.start_run(experiment_id=experiment.experiment_id):\n",
        "  for epoch in range(epochs):\n",
        "      cost=0\n",
        "      model.train()\n",
        "      train_accuracy = 0\n",
        "      train_loss = 0\n",
        "      for images, labels in train_loader:\n",
        "          images = images.reshape(100,784)\n",
        "          \n",
        "          optimizer.zero_grad() # 변화도 매개변수 0\n",
        "          \n",
        "          #forward\n",
        "          #pred = model.forward(images)\n",
        "          #loss = loss_function(pred, labels)\n",
        "          pred = model(images)\n",
        "          loss = loss_function(pred,labels)\n",
        "          prediction = torch.argmax(pred,1)\n",
        "          correct = (prediction == labels)\n",
        "          train_accuracy += correct.sum().item() / 60000\n",
        "          train_loss += loss.item() / 600\n",
        "          \n",
        "          #backward\n",
        "          loss.backward()\n",
        "          \n",
        "          #Update\n",
        "          optimizer.step()\n",
        "          \n",
        "          cost += loss\n",
        "      \n",
        "      with torch.no_grad(): #미분하지 않겠다는 것\n",
        "          total = 0\n",
        "          correct=0\n",
        "          for images, labels in test_loader:\n",
        "              images = images.reshape(100,784)\n",
        "\n",
        "              outputs = model(images)\n",
        "              _,predict = torch.max(outputs.data, 1)\n",
        "\n",
        "              total += labels.size(0)\n",
        "              correct += (predict==labels).sum() # 예측한 값과 일치한 값의 합\n",
        "\n",
        "      avg_cost = cost / total_batch\n",
        "      accuracy = 100*correct/total\n",
        "      \n",
        "      val_loss_list.append(avg_cost.detach().numpy())\n",
        "      val_acc_list.append(accuracy)\n",
        "\n",
        "      if accuracy > best_accuracy:\n",
        "        torch.save(model.state_dict(),'model.pt')\n",
        "        best_accuracy = accuracy\n",
        "        print(f\"Save Model(Epoch: {epoch+1}, Accuracy: {best_accuracy:.5})\")\n",
        "      \n",
        "      print(\"epoch : {} | loss : {:.6f}\" .format(epoch+1, avg_cost))\n",
        "      print(\"Accuracy : {:.2f}\".format(100*correct/total))\n",
        "      mlflow.log_param('learning-rate',learning_rate) # mlflow.log_param 을 사용하여 MLflow에 파라미터들을 기록할 수 있습니다.\n",
        "      mlflow.log_param('epoch',epochs)\n",
        "      mlflow.log_param('batch_size',batch_size)\n",
        "      mlflow.log_param('seed',seed)\n",
        "      mlflow.log_metric('train_accuracy',train_accuracy) # mlflow.log_metric을 사용하여 MLflow에 성능평가를 위한 metric을 기록할 수 있습니다.\n",
        "      mlflow.log_metric('train_loss',train_loss)\n",
        "      mlflow.log_metric('valid_accuracy',accuracy)\n",
        "      mlflow.log_metric('valid_loss',avg_cost)\n",
        "      mlflow.pytorch.log_model(model,'model') # pytorch.log_model 을 통해 모델을 저장할 수 있습니다.\n",
        "      print(\"------\")"
      ],
      "metadata": {
        "id": "qnB-UlsZGTKn",
        "outputId": "c99564b3-d1e6-44f0-c550-586575c654fa",
        "colab": {
          "base_uri": "https://localhost:8080/"
        }
      },
      "id": "qnB-UlsZGTKn",
      "execution_count": 27,
      "outputs": [
        {
          "output_type": "stream",
          "name": "stderr",
          "text": [
            "2022/10/27 05:20:00 WARNING mlflow.utils.requirements_utils: Found torch version (1.12.1+cu113) contains a local version label (+cu113). MLflow logged a pip requirement for this package as 'torch==1.12.1' without the local version label to make it installable from PyPI. To specify pip requirements containing local version labels, please use `conda_env` or `pip_requirements`.\n"
          ]
        },
        {
          "output_type": "stream",
          "name": "stdout",
          "text": [
            "Save Model(Epoch: 1, Accuracy: 70.65)\n",
            "epoch : 1 | loss : 2.043801\n",
            "Accuracy : 70.65\n"
          ]
        },
        {
          "output_type": "stream",
          "name": "stderr",
          "text": [
            "2022/10/27 05:20:03 WARNING mlflow.utils.requirements_utils: Found torch version (1.12.1+cu113) contains a local version label (+cu113). MLflow logged a pip requirement for this package as 'torch==1.12.1' without the local version label to make it installable from PyPI. To specify pip requirements containing local version labels, please use `conda_env` or `pip_requirements`.\n"
          ]
        },
        {
          "output_type": "stream",
          "name": "stdout",
          "text": [
            "------\n"
          ]
        },
        {
          "output_type": "stream",
          "name": "stderr",
          "text": [
            "2022/10/27 05:20:11 WARNING mlflow.utils.requirements_utils: Found torch version (1.12.1+cu113) contains a local version label (+cu113). MLflow logged a pip requirement for this package as 'torch==1.12.1' without the local version label to make it installable from PyPI. To specify pip requirements containing local version labels, please use `conda_env` or `pip_requirements`.\n"
          ]
        },
        {
          "output_type": "stream",
          "name": "stdout",
          "text": [
            "Save Model(Epoch: 2, Accuracy: 84.6)\n",
            "epoch : 2 | loss : 0.884435\n",
            "Accuracy : 84.60\n"
          ]
        },
        {
          "output_type": "stream",
          "name": "stderr",
          "text": [
            "2022/10/27 05:20:13 WARNING mlflow.utils.requirements_utils: Found torch version (1.12.1+cu113) contains a local version label (+cu113). MLflow logged a pip requirement for this package as 'torch==1.12.1' without the local version label to make it installable from PyPI. To specify pip requirements containing local version labels, please use `conda_env` or `pip_requirements`.\n"
          ]
        },
        {
          "output_type": "stream",
          "name": "stdout",
          "text": [
            "------\n"
          ]
        },
        {
          "output_type": "stream",
          "name": "stderr",
          "text": [
            "2022/10/27 05:20:21 WARNING mlflow.utils.requirements_utils: Found torch version (1.12.1+cu113) contains a local version label (+cu113). MLflow logged a pip requirement for this package as 'torch==1.12.1' without the local version label to make it installable from PyPI. To specify pip requirements containing local version labels, please use `conda_env` or `pip_requirements`.\n"
          ]
        },
        {
          "output_type": "stream",
          "name": "stdout",
          "text": [
            "Save Model(Epoch: 3, Accuracy: 88.2)\n",
            "epoch : 3 | loss : 0.505807\n",
            "Accuracy : 88.20\n"
          ]
        },
        {
          "output_type": "stream",
          "name": "stderr",
          "text": [
            "2022/10/27 05:20:23 WARNING mlflow.utils.requirements_utils: Found torch version (1.12.1+cu113) contains a local version label (+cu113). MLflow logged a pip requirement for this package as 'torch==1.12.1' without the local version label to make it installable from PyPI. To specify pip requirements containing local version labels, please use `conda_env` or `pip_requirements`.\n"
          ]
        },
        {
          "output_type": "stream",
          "name": "stdout",
          "text": [
            "------\n"
          ]
        },
        {
          "output_type": "stream",
          "name": "stderr",
          "text": [
            "2022/10/27 05:20:31 WARNING mlflow.utils.requirements_utils: Found torch version (1.12.1+cu113) contains a local version label (+cu113). MLflow logged a pip requirement for this package as 'torch==1.12.1' without the local version label to make it installable from PyPI. To specify pip requirements containing local version labels, please use `conda_env` or `pip_requirements`.\n"
          ]
        },
        {
          "output_type": "stream",
          "name": "stdout",
          "text": [
            "Save Model(Epoch: 4, Accuracy: 89.67)\n",
            "epoch : 4 | loss : 0.408927\n",
            "Accuracy : 89.67\n"
          ]
        },
        {
          "output_type": "stream",
          "name": "stderr",
          "text": [
            "2022/10/27 05:20:34 WARNING mlflow.utils.requirements_utils: Found torch version (1.12.1+cu113) contains a local version label (+cu113). MLflow logged a pip requirement for this package as 'torch==1.12.1' without the local version label to make it installable from PyPI. To specify pip requirements containing local version labels, please use `conda_env` or `pip_requirements`.\n"
          ]
        },
        {
          "output_type": "stream",
          "name": "stdout",
          "text": [
            "------\n"
          ]
        },
        {
          "output_type": "stream",
          "name": "stderr",
          "text": [
            "2022/10/27 05:20:42 WARNING mlflow.utils.requirements_utils: Found torch version (1.12.1+cu113) contains a local version label (+cu113). MLflow logged a pip requirement for this package as 'torch==1.12.1' without the local version label to make it installable from PyPI. To specify pip requirements containing local version labels, please use `conda_env` or `pip_requirements`.\n"
          ]
        },
        {
          "output_type": "stream",
          "name": "stdout",
          "text": [
            "Save Model(Epoch: 5, Accuracy: 90.39)\n",
            "epoch : 5 | loss : 0.365257\n",
            "Accuracy : 90.39\n"
          ]
        },
        {
          "output_type": "stream",
          "name": "stderr",
          "text": [
            "2022/10/27 05:20:44 WARNING mlflow.utils.requirements_utils: Found torch version (1.12.1+cu113) contains a local version label (+cu113). MLflow logged a pip requirement for this package as 'torch==1.12.1' without the local version label to make it installable from PyPI. To specify pip requirements containing local version labels, please use `conda_env` or `pip_requirements`.\n"
          ]
        },
        {
          "output_type": "stream",
          "name": "stdout",
          "text": [
            "------\n"
          ]
        },
        {
          "output_type": "stream",
          "name": "stderr",
          "text": [
            "2022/10/27 05:20:52 WARNING mlflow.utils.requirements_utils: Found torch version (1.12.1+cu113) contains a local version label (+cu113). MLflow logged a pip requirement for this package as 'torch==1.12.1' without the local version label to make it installable from PyPI. To specify pip requirements containing local version labels, please use `conda_env` or `pip_requirements`.\n"
          ]
        },
        {
          "output_type": "stream",
          "name": "stdout",
          "text": [
            "Save Model(Epoch: 6, Accuracy: 91.05)\n",
            "epoch : 6 | loss : 0.338573\n",
            "Accuracy : 91.05\n"
          ]
        },
        {
          "output_type": "stream",
          "name": "stderr",
          "text": [
            "2022/10/27 05:20:54 WARNING mlflow.utils.requirements_utils: Found torch version (1.12.1+cu113) contains a local version label (+cu113). MLflow logged a pip requirement for this package as 'torch==1.12.1' without the local version label to make it installable from PyPI. To specify pip requirements containing local version labels, please use `conda_env` or `pip_requirements`.\n"
          ]
        },
        {
          "output_type": "stream",
          "name": "stdout",
          "text": [
            "------\n"
          ]
        },
        {
          "output_type": "stream",
          "name": "stderr",
          "text": [
            "2022/10/27 05:21:02 WARNING mlflow.utils.requirements_utils: Found torch version (1.12.1+cu113) contains a local version label (+cu113). MLflow logged a pip requirement for this package as 'torch==1.12.1' without the local version label to make it installable from PyPI. To specify pip requirements containing local version labels, please use `conda_env` or `pip_requirements`.\n"
          ]
        },
        {
          "output_type": "stream",
          "name": "stdout",
          "text": [
            "Save Model(Epoch: 7, Accuracy: 91.55)\n",
            "epoch : 7 | loss : 0.319484\n",
            "Accuracy : 91.55\n"
          ]
        },
        {
          "output_type": "stream",
          "name": "stderr",
          "text": [
            "2022/10/27 05:21:05 WARNING mlflow.utils.requirements_utils: Found torch version (1.12.1+cu113) contains a local version label (+cu113). MLflow logged a pip requirement for this package as 'torch==1.12.1' without the local version label to make it installable from PyPI. To specify pip requirements containing local version labels, please use `conda_env` or `pip_requirements`.\n"
          ]
        },
        {
          "output_type": "stream",
          "name": "stdout",
          "text": [
            "------\n"
          ]
        },
        {
          "output_type": "stream",
          "name": "stderr",
          "text": [
            "2022/10/27 05:21:13 WARNING mlflow.utils.requirements_utils: Found torch version (1.12.1+cu113) contains a local version label (+cu113). MLflow logged a pip requirement for this package as 'torch==1.12.1' without the local version label to make it installable from PyPI. To specify pip requirements containing local version labels, please use `conda_env` or `pip_requirements`.\n"
          ]
        },
        {
          "output_type": "stream",
          "name": "stdout",
          "text": [
            "Save Model(Epoch: 8, Accuracy: 91.77)\n",
            "epoch : 8 | loss : 0.304454\n",
            "Accuracy : 91.77\n"
          ]
        },
        {
          "output_type": "stream",
          "name": "stderr",
          "text": [
            "2022/10/27 05:21:15 WARNING mlflow.utils.requirements_utils: Found torch version (1.12.1+cu113) contains a local version label (+cu113). MLflow logged a pip requirement for this package as 'torch==1.12.1' without the local version label to make it installable from PyPI. To specify pip requirements containing local version labels, please use `conda_env` or `pip_requirements`.\n"
          ]
        },
        {
          "output_type": "stream",
          "name": "stdout",
          "text": [
            "------\n"
          ]
        },
        {
          "output_type": "stream",
          "name": "stderr",
          "text": [
            "2022/10/27 05:21:23 WARNING mlflow.utils.requirements_utils: Found torch version (1.12.1+cu113) contains a local version label (+cu113). MLflow logged a pip requirement for this package as 'torch==1.12.1' without the local version label to make it installable from PyPI. To specify pip requirements containing local version labels, please use `conda_env` or `pip_requirements`.\n"
          ]
        },
        {
          "output_type": "stream",
          "name": "stdout",
          "text": [
            "Save Model(Epoch: 9, Accuracy: 92.12)\n",
            "epoch : 9 | loss : 0.291567\n",
            "Accuracy : 92.12\n"
          ]
        },
        {
          "output_type": "stream",
          "name": "stderr",
          "text": [
            "2022/10/27 05:21:25 WARNING mlflow.utils.requirements_utils: Found torch version (1.12.1+cu113) contains a local version label (+cu113). MLflow logged a pip requirement for this package as 'torch==1.12.1' without the local version label to make it installable from PyPI. To specify pip requirements containing local version labels, please use `conda_env` or `pip_requirements`.\n"
          ]
        },
        {
          "output_type": "stream",
          "name": "stdout",
          "text": [
            "------\n"
          ]
        },
        {
          "output_type": "stream",
          "name": "stderr",
          "text": [
            "2022/10/27 05:21:33 WARNING mlflow.utils.requirements_utils: Found torch version (1.12.1+cu113) contains a local version label (+cu113). MLflow logged a pip requirement for this package as 'torch==1.12.1' without the local version label to make it installable from PyPI. To specify pip requirements containing local version labels, please use `conda_env` or `pip_requirements`.\n"
          ]
        },
        {
          "output_type": "stream",
          "name": "stdout",
          "text": [
            "Save Model(Epoch: 10, Accuracy: 92.55)\n",
            "epoch : 10 | loss : 0.280728\n",
            "Accuracy : 92.55\n"
          ]
        },
        {
          "output_type": "stream",
          "name": "stderr",
          "text": [
            "2022/10/27 05:21:35 WARNING mlflow.utils.requirements_utils: Found torch version (1.12.1+cu113) contains a local version label (+cu113). MLflow logged a pip requirement for this package as 'torch==1.12.1' without the local version label to make it installable from PyPI. To specify pip requirements containing local version labels, please use `conda_env` or `pip_requirements`.\n"
          ]
        },
        {
          "output_type": "stream",
          "name": "stdout",
          "text": [
            "------\n"
          ]
        }
      ]
    }
  ],
  "metadata": {
    "kernelspec": {
      "display_name": "Python 3 (ipykernel)",
      "language": "python",
      "name": "python3"
    },
    "language_info": {
      "codemirror_mode": {
        "name": "ipython",
        "version": 3
      },
      "file_extension": ".py",
      "mimetype": "text/x-python",
      "name": "python",
      "nbconvert_exporter": "python",
      "pygments_lexer": "ipython3",
      "version": "3.8.12"
    },
    "colab": {
      "provenance": []
    }
  },
  "nbformat": 4,
  "nbformat_minor": 5
}